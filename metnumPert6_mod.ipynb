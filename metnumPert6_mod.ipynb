{
  "cells": [
    {
      "cell_type": "code",
      "execution_count": 18,
      "id": "beb6c6b9",
      "metadata": {
        "id": "beb6c6b9",
        "colab": {
          "base_uri": "https://localhost:8080/"
        },
        "outputId": "1c3f926a-3431-407a-e256-382d9c02e6c1"
      },
      "outputs": [
        {
          "output_type": "stream",
          "name": "stdout",
          "text": [
            "✅ Fungsi f1 dan f2 siap digunakan.\n"
          ]
        }
      ],
      "source": [
        "import numpy as np\n",
        "import warnings\n",
        "warnings.filterwarnings(\"ignore\", category=RuntimeWarning)\n",
        "\n",
        "def f1(x, y):\n",
        "    \"\"\"f1(x, y) = x^2 + xy - 10\"\"\"\n",
        "    return x**2 + x*y - 10\n",
        "\n",
        "def f2(x, y):\n",
        "    \"\"\"f2(x, y) = y + 3xy^2 - 57\"\"\"\n",
        "    return y + 3*x*y**2 - 57\n",
        "\n",
        "print(\"✅ Fungsi f1 dan f2 siap digunakan.\")\n"
      ]
    },
    {
      "cell_type": "code",
      "execution_count": 17,
      "id": "3b738fcf",
      "metadata": {
        "colab": {
          "base_uri": "https://localhost:8080/"
        },
        "id": "3b738fcf",
        "outputId": "2137e258-20d8-4d20-aa0d-ea3800603443"
      },
      "outputs": [
        {
          "output_type": "stream",
          "name": "stdout",
          "text": [
            "✅ Fungsi g1A dan g2A (NIMx = 0) siap digunakan.\n"
          ]
        }
      ],
      "source": [
        "def g1A(x, y):\n",
        "    \"\"\"Fungsi iterasi: x = sqrt(10 - x*y)\"\"\"\n",
        "    arg = 10 - x*y\n",
        "    return np.sqrt(arg) if arg >= 0 else np.nan\n",
        "\n",
        "def g2A(x, y):\n",
        "    \"\"\"Fungsi iterasi: y = sqrt(57 - 3*x*y^2)\"\"\"\n",
        "    arg = 57 - 3*x*(y**2)\n",
        "    return np.sqrt(arg) if arg >= 0 else np.nan\n",
        "\n",
        "print(\"✅ Fungsi g1A dan g2A (NIMx = 0) siap digunakan.\")\n"
      ]
    },
    {
      "cell_type": "code",
      "execution_count": 19,
      "id": "0fe69d4f",
      "metadata": {
        "id": "0fe69d4f"
      },
      "outputs": [],
      "source": [
        "def fixed_point_jacobi(x0, y0, tol=1e-6, max_iter=200):\n",
        "    \"\"\"Iterasi Titik Tetap - Jacobi\"\"\"\n",
        "    x, y = x0, y0\n",
        "    print(\"\\n🔹 Iterasi Titik Tetap (Jacobi)\")\n",
        "    for i in range(max_iter):\n",
        "        x_new = g1A(x, y)\n",
        "        y_new = g2A(x, y)\n",
        "        if np.isnan(x_new) or np.isnan(y_new):\n",
        "            print(f\"❌ Iterasi {i+1}: domain keluar.\")\n",
        "            return None, None, i+1\n",
        "        error = max(abs(x_new - x), abs(y_new - y))\n",
        "        print(f\"Iter-{i+1}: x={x_new:.7f}, y={y_new:.7f}, error={error:.7f}\")\n",
        "        if error < tol:\n",
        "            print(f\"\\n✅ Konvergen setelah {i+1} iterasi.\")\n",
        "            return x_new, y_new, i+1\n",
        "        x, y = x_new, y_new\n",
        "    print(\"❌ Tidak konvergen dalam batas iterasi.\")\n",
        "    return None, None, max_iter\n",
        "\n",
        "def fixed_point_seidel(x0, y0, tol=1e-6, max_iter=200):\n",
        "    \"\"\"Iterasi Titik Tetap - Gauss-Seidel\"\"\"\n",
        "    x, y = x0, y0\n",
        "    print(\"\\n🔹 Iterasi Titik Tetap (Gauss-Seidel)\")\n",
        "    for i in range(max_iter):\n",
        "        x_old, y_old = x, y\n",
        "        x = g1A(x_old, y_old)\n",
        "        if np.isnan(x): break\n",
        "        y = g2A(x, y_old)\n",
        "        if np.isnan(y): break\n",
        "        error = max(abs(x - x_old), abs(y - y_old))\n",
        "        print(f\"Iter-{i+1}: x={x:.7f}, y={y:.7f}, error={error:.7f}\")\n",
        "        if error < tol:\n",
        "            print(f\"\\n✅ Konvergen setelah {i+1} iterasi.\")\n",
        "            return x, y, i+1\n",
        "    print(\"❌ Tidak konvergen dalam batas iterasi.\")\n",
        "    return None, None, max_iter\n"
      ]
    },
    {
      "cell_type": "code",
      "execution_count": 20,
      "id": "4a3944fa",
      "metadata": {
        "id": "4a3944fa"
      },
      "outputs": [],
      "source": [
        "def df1dx(x, y): return 2*x + y\n",
        "def df1dy(x, y): return x\n",
        "def df2dx(x, y): return 3*(y**2)\n",
        "def df2dy(x, y): return 1 + 6*x*y\n",
        "\n",
        "def newton_raphson(x0, y0, tol=1e-6, max_iter=100):\n",
        "    \"\"\"Metode Newton-Raphson\"\"\"\n",
        "    x, y = x0, y0\n",
        "    print(\"\\n🔹 Metode Newton-Raphson\")\n",
        "    for i in range(max_iter):\n",
        "        J = np.array([[df1dx(x, y), df1dy(x, y)],\n",
        "                      [df2dx(x, y), df2dy(x, y)]])\n",
        "        F = np.array([-f1(x, y), -f2(x, y)])\n",
        "        try:\n",
        "            delta = np.linalg.solve(J, F)\n",
        "        except np.linalg.LinAlgError:\n",
        "            print(\"❌ Jacobian singular.\")\n",
        "            return None, None, i+1\n",
        "        x_new, y_new = x + delta[0], y + delta[1]\n",
        "        error = np.sqrt(delta[0]**2 + delta[1]**2)\n",
        "        print(f\"Iter-{i+1}: x={x_new:.7f}, y={y_new:.7f}, error={error:.7f}\")\n",
        "        if error < tol:\n",
        "            print(f\"\\n✅ Konvergen setelah {i+1} iterasi.\")\n",
        "            return x_new, y_new, i+1\n",
        "        x, y = x_new, y_new\n",
        "    print(\"❌ Tidak konvergen dalam batas iterasi.\")\n",
        "    return None, None, max_iter\n"
      ]
    },
    {
      "cell_type": "code",
      "execution_count": 21,
      "id": "a722c882",
      "metadata": {
        "id": "a722c882"
      },
      "outputs": [],
      "source": [
        "def secant(x0, y0, tol=1e-6, max_iter=100, h=1e-6):\n",
        "    \"\"\"Metode Secant (aproksimasi Jacobian)\"\"\"\n",
        "    x, y = x0, y0\n",
        "    print(\"\\n🔹 Metode Secant (aproksimasi Jacobian)\")\n",
        "    for i in range(max_iter):\n",
        "        j11 = (f1(x+h, y) - f1(x, y)) / h\n",
        "        j12 = (f1(x, y+h) - f1(x, y)) / h\n",
        "        j21 = (f2(x+h, y) - f2(x, y)) / h\n",
        "        j22 = (f2(x, y+h) - f2(x, y)) / h\n",
        "        J = np.array([[j11, j12], [j21, j22]])\n",
        "        F = np.array([-f1(x, y), -f2(x, y)])\n",
        "        try:\n",
        "            delta = np.linalg.solve(J, F)\n",
        "        except np.linalg.LinAlgError:\n",
        "            print(\"❌ Jacobian singular.\")\n",
        "            return None, None, i+1\n",
        "        x_new, y_new = x + delta[0], y + delta[1]\n",
        "        error = np.sqrt(delta[0]**2 + delta[1]**2)\n",
        "        print(f\"Iter-{i+1}: x={x_new:.7f}, y={y_new:.7f}, error={error:.7f}\")\n",
        "        if error < tol:\n",
        "            print(f\"\\n✅ Konvergen setelah {i+1} iterasi.\")\n",
        "            return x_new, y_new, i+1\n",
        "        x, y = x_new, y_new\n",
        "    print(\"❌ Tidak konvergen dalam batas iterasi.\")\n",
        "    return None, None, max_iter\n"
      ]
    },
    {
      "cell_type": "code",
      "metadata": {
        "colab": {
          "base_uri": "https://localhost:8080/"
        },
        "id": "IOJSYLzSnDpZ",
        "outputId": "c845071f-c839-42fd-aefa-194e3a5bfe09"
      },
      "source": [
        "# Nilai awal (bebas ditentukan)\n",
        "x_init, y_init = 1.5, 3.5\n",
        "tolerance = 1e-6\n",
        "\n",
        "# Jalankan semua metode\n",
        "x_jacobi, y_jacobi, it_jacobi = fixed_point_jacobi(x_init, y_init, tolerance)\n",
        "x_seidel, y_seidel, it_seidel = fixed_point_seidel(x_init, y_init, tolerance)\n",
        "x_newton, y_newton, it_newton = newton_raphson(x_init, y_init, tolerance)\n",
        "x_secant, y_secant, it_secant = secant(x_init, y_init, tolerance)\n",
        "\n",
        "print(\"\\n==================== RANGKUMAN HASIL ====================\")\n",
        "print(f\"{'Metode':<25} {'x':>10} {'y':>10} {'Iterasi':>10}\")\n",
        "print(\"-\"*55)\n",
        "print(f\"{'Jacobi (g1A,g2A)':<25} {x_jacobi if x_jacobi else 0:>10.6f} {y_jacobi if y_jacobi else 0:>10.6f} {it_jacobi:>10}\")\n",
        "print(f\"{'Seidel (g1A,g2A)':<25} {x_seidel if x_seidel else 0:>10.6f} {y_seidel if y_seidel else 0:>10.6f} {it_seidel:>10}\")\n",
        "print(f\"{'Newton-Raphson':<25} {x_newton if x_newton else 0:>10.6f} {y_newton if y_newton else 0:>10.6f} {it_newton:>10}\")\n",
        "print(f\"{'Secant':<25} {x_secant if x_secant else 0:>10.6f} {y_secant if y_secant else 0:>10.6f} {it_secant:>10}\")\n",
        "print(\"=\"*55)\n"
      ],
      "outputs": [
        {
          "output_type": "stream",
          "name": "stdout",
          "text": [
            "\n",
            "🔹 Iterasi Titik Tetap (Jacobi)\n",
            "Iter-1: x=2.1794495, y=1.3693064, error=2.1306936\n",
            "Iter-2: x=2.6487102, y=6.6888412, error=5.3195348\n",
            "❌ Iterasi 3: domain keluar.\n",
            "\n",
            "🔹 Iterasi Titik Tetap (Gauss-Seidel)\n",
            "❌ Tidak konvergen dalam batas iterasi.\n",
            "\n",
            "🔹 Metode Newton-Raphson\n",
            "Iter-1: x=2.0360288, y=2.8438751, error=0.8472466\n",
            "Iter-2: x=1.9987006, y=3.0022886, error=0.1627520\n",
            "Iter-3: x=2.0000000, y=2.9999994, error=0.0026322\n",
            "Iter-4: x=2.0000000, y=3.0000000, error=0.0000006\n",
            "\n",
            "✅ Konvergen setelah 4 iterasi.\n",
            "\n",
            "🔹 Metode Secant (aproksimasi Jacobian)\n",
            "Iter-1: x=2.0360287, y=2.8438753, error=0.8472463\n",
            "Iter-2: x=1.9987006, y=3.0022885, error=0.1627517\n",
            "Iter-3: x=2.0000000, y=2.9999994, error=0.0026322\n",
            "Iter-4: x=2.0000000, y=3.0000000, error=0.0000006\n",
            "\n",
            "✅ Konvergen setelah 4 iterasi.\n",
            "\n",
            "==================== RANGKUMAN HASIL ====================\n",
            "Metode                             x          y    Iterasi\n",
            "-------------------------------------------------------\n",
            "Jacobi (g1A,g2A)            0.000000   0.000000          3\n",
            "Seidel (g1A,g2A)            0.000000   0.000000        200\n",
            "Newton-Raphson              2.000000   3.000000          4\n",
            "Secant                      2.000000   3.000000          4\n",
            "=======================================================\n"
          ]
        }
      ],
      "execution_count": 22,
      "id": "IOJSYLzSnDpZ"
    }
  ],
  "metadata": {
    "kernelspec": {
      "display_name": "base",
      "language": "python",
      "name": "python3"
    },
    "language_info": {
      "codemirror_mode": {
        "name": "ipython",
        "version": 3
      },
      "file_extension": ".py",
      "mimetype": "text/x-python",
      "name": "python",
      "nbconvert_exporter": "python",
      "pygments_lexer": "ipython3",
      "version": "3.12.7"
    },
    "colab": {
      "provenance": []
    }
  },
  "nbformat": 4,
  "nbformat_minor": 5
}